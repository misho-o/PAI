{
  "nbformat": 4,
  "nbformat_minor": 0,
  "metadata": {
    "colab": {
      "provenance": [],
      "authorship_tag": "ABX9TyNQr6nLOnrBUiKUXs9kA13/",
      "include_colab_link": true
    },
    "kernelspec": {
      "name": "python3",
      "display_name": "Python 3"
    },
    "language_info": {
      "name": "python"
    }
  },
  "cells": [
    {
      "cell_type": "markdown",
      "metadata": {
        "id": "view-in-github",
        "colab_type": "text"
      },
      "source": [
        "<a href=\"https://colab.research.google.com/github/misho-o/PAI/blob/main/lab1.ipynb\" target=\"_parent\"><img src=\"https://colab.research.google.com/assets/colab-badge.svg\" alt=\"Open In Colab\"/></a>"
      ]
    },
    {
      "cell_type": "code",
      "execution_count": null,
      "metadata": {
        "id": "ylnUKsNoqDk0"
      },
      "outputs": [],
      "source": [
        "#LAB 01"
      ]
    },
    {
      "cell_type": "code",
      "source": [
        "userInput = int(input(\"enter a number:\"))\n",
        "\n",
        "flt = float(userInput)\n",
        "string = str(userInput)\n",
        "cpx = complex(userInput)\n",
        "\n",
        "print(f\"{type(userInput)}\\ntype:{type(flt)}\\ntype:{type(string)}\\ntype:{type(cpx)}\")\n",
        "\n",
        "if userInput//2 != userInput/2:\n",
        "  print(f\"{userInput} is odd.\")\n",
        "else:\n",
        "  print(f\"{userInput} is even.\")"
      ],
      "metadata": {
        "colab": {
          "base_uri": "https://localhost:8080/"
        },
        "id": "SxV_I1xSqIrH",
        "outputId": "d23dd3c7-fde0-456c-fac8-3c6d582fbbba"
      },
      "execution_count": null,
      "outputs": [
        {
          "output_type": "stream",
          "name": "stdout",
          "text": [
            "enter a number:93\n",
            "<class 'int'>\n",
            "type:<class 'float'>\n",
            "type:<class 'str'>\n",
            "type:<class 'complex'>\n",
            "93 is odd.\n"
          ]
        }
      ]
    },
    {
      "cell_type": "code",
      "source": [
        "string = \"Artificial Intelligence\"\n",
        "\n",
        "intel = string[11:16]\n",
        "rev = string[::-1]\n",
        "\n",
        "print(intel)\n",
        "print(string[::-1])\n",
        "print(string[-23:-20])\n",
        "\n",
        "print(string[1:2] , string[11:12])"
      ],
      "metadata": {
        "colab": {
          "base_uri": "https://localhost:8080/"
        },
        "id": "puplF1P9rNWh",
        "outputId": "a17e208c-0860-43be-d640-9a719bb41dfa"
      },
      "execution_count": null,
      "outputs": [
        {
          "output_type": "stream",
          "name": "stdout",
          "text": [
            "Intel\n",
            "ecnegilletnI laicifitrA\n",
            "Art\n",
            "r I\n"
          ]
        }
      ]
    },
    {
      "cell_type": "code",
      "source": [
        "digit = list(input(\"enter a 4 digit number: \"))\n",
        "encr = \"\"\n",
        "while len(digit) != 4:\n",
        "  digit = list(input(\"enter a 4 digit number: \"))\n",
        "\n",
        "for i,n in enumerate(digit):\n",
        "  digit[i] =  str((int(n)+7)%10)\n",
        "\n",
        "\n",
        "encr = digit[3]+digit[2]+digit[1]+digit[0]\n",
        "print(f\"After encryption: {encr}\")\n"
      ],
      "metadata": {
        "colab": {
          "base_uri": "https://localhost:8080/"
        },
        "id": "qGj3zyD9sh0A",
        "outputId": "c1711184-fb7b-4cc1-d248-b885cab22de0"
      },
      "execution_count": null,
      "outputs": [
        {
          "output_type": "stream",
          "name": "stdout",
          "text": [
            "enter a 4 digit number: 1234\n",
            "After encryption: 1098\n"
          ]
        }
      ]
    },
    {
      "cell_type": "code",
      "source": [
        "x = 5\n",
        "y = x*x\n",
        "z = x*x*x\n",
        "w =  z**(1/2) #supposed to be sqrrot of z\n",
        "\n",
        "print(f\"x : {x} \\ny : {y}\\nz : {z}\\nw : {w}\")"
      ],
      "metadata": {
        "colab": {
          "base_uri": "https://localhost:8080/"
        },
        "id": "RLKZ7unOs7G_",
        "outputId": "31d69017-9311-4028-abfb-e0098af40cda"
      },
      "execution_count": null,
      "outputs": [
        {
          "output_type": "stream",
          "name": "stdout",
          "text": [
            "x : 5 \n",
            "y : 25\n",
            "z : 125\n",
            "w : 11.180339887498949\n"
          ]
        }
      ]
    },
    {
      "cell_type": "code",
      "source": [
        "name = input(\"enter name : \")\n",
        "year =input(\"enter birth year: \")\n",
        "symbols = [\"@\", \"#\", \"%\", \"&\", \"*\"]\n",
        "\n",
        "psw = name[0:3]+year[-2:]+symbols[int(ord(name[0]))%5]\n",
        "\n",
        "print(psw)"
      ],
      "metadata": {
        "colab": {
          "base_uri": "https://localhost:8080/"
        },
        "id": "JIYDbsRP5MZA",
        "outputId": "b7a2cd72-8c00-4e90-aa2a-1342da65a5f1"
      },
      "execution_count": null,
      "outputs": [
        {
          "output_type": "stream",
          "name": "stdout",
          "text": [
            "enter name : mishal\n",
            "enter birth year: 2005\n",
            "mis05*\n"
          ]
        }
      ]
    },
    {
      "cell_type": "code",
      "source": [],
      "metadata": {
        "id": "bGRbxaYw6gY8"
      },
      "execution_count": null,
      "outputs": []
    }
  ]
}