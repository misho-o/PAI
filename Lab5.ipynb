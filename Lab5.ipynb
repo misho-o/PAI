{
  "nbformat": 4,
  "nbformat_minor": 0,
  "metadata": {
    "colab": {
      "provenance": [],
      "authorship_tag": "ABX9TyMPjbQsRLYfqlK9ZEvT/FFr",
      "include_colab_link": true
    },
    "kernelspec": {
      "name": "python3",
      "display_name": "Python 3"
    },
    "language_info": {
      "name": "python"
    }
  },
  "cells": [
    {
      "cell_type": "markdown",
      "metadata": {
        "id": "view-in-github",
        "colab_type": "text"
      },
      "source": [
        "<a href=\"https://colab.research.google.com/github/misho-o/PAI/blob/main/Lab5.ipynb\" target=\"_parent\"><img src=\"https://colab.research.google.com/assets/colab-badge.svg\" alt=\"Open In Colab\"/></a>"
      ]
    },
    {
      "cell_type": "code",
      "source": [],
      "metadata": {
        "id": "R4Aq40SYTh8H"
      },
      "execution_count": null,
      "outputs": []
    },
    {
      "cell_type": "markdown",
      "source": [
        "1. Write a Python program that reads a text file, counts the number of characters in it, and\n",
        "prints the total word count. Handle all possible exceptions as well."
      ],
      "metadata": {
        "id": "-_O4KzcKIp5s"
      }
    },
    {
      "cell_type": "code",
      "source": [
        "\n",
        "try:\n",
        "    with open(\"stuff.txt\",\"r\") as file:\n",
        "        text = \"\".join(file.readlines())\n",
        "\n",
        "\n",
        "\n",
        "        words = text.split()\n",
        "        print(f\"total words: {len(words)}\")\n",
        "        print(text)\n",
        "except IOError as e:\n",
        "    print(\"file not found\",e)\n"
      ],
      "metadata": {
        "id": "IFTkbD1UIvD7"
      },
      "execution_count": null,
      "outputs": []
    },
    {
      "cell_type": "markdown",
      "source": [
        "2. Create a program that reads a text file, searches for a specified word or phrase, and replaces\n",
        "all occurrences with another word or phrase. Write the modified content back to\n",
        "the file.\n",
        "Handle all possible exceptions as well."
      ],
      "metadata": {
        "id": "-5xCFDo5PJjz"
      }
    },
    {
      "cell_type": "code",
      "source": [
        "try:\n",
        "    targ = \"data\"\n",
        "    with open(\"stuff.txt\",\"r\") as file:\n",
        "        text = \"\".join(file.readlines())\n",
        "\n",
        "\n",
        "\n",
        "    words = text.split()\n",
        "\n",
        "    for index,word in enumerate(words):\n",
        "        if word == targ:\n",
        "            words[index] = \"Idiot\"\n",
        "\n",
        "    text = \" \".join(words)\n",
        "\n",
        "\n",
        "    with open(\"stuff.txt\",\"w\")as file:\n",
        "        file.truncate(0)\n",
        "\n",
        "        file.write(text)\n",
        "\n",
        "except IOError as e:\n",
        "    print(\"file not found\",e)\n"
      ],
      "metadata": {
        "id": "ikfUh6OJPIHB"
      },
      "execution_count": null,
      "outputs": []
    },
    {
      "cell_type": "markdown",
      "source": [
        "3. Write a python program that takes any two lists from user having same number of elements.\n",
        "Make a dictionary from these two lists in such a way that first element of first list will be\n",
        "key and first element of second list will be its associated value and so on. Store the\n",
        "dictionary in a text file. Handle all possible exceptions as well. Note: do not use any library.\n",
        "Make logic yourself."
      ],
      "metadata": {
        "id": "9JWwQvcUSW_7"
      }
    },
    {
      "cell_type": "code",
      "source": [
        "list1,list2 = [],[]\n",
        "y = lambda:input(\"Enter\")\n",
        "for i in range(3):\n",
        "  print(\"Enter fruit:\")\n",
        "  list1.append(y())\n",
        "  print(\"Enter fruit's price:\")\n",
        "  list2.append(y())\n",
        "dict = {}\n",
        "\n",
        "for i in range(len(list1)):\n",
        "  dict[list1[i]] = list2[i]"
      ],
      "metadata": {
        "colab": {
          "base_uri": "https://localhost:8080/"
        },
        "id": "OlFH55qgPH1m",
        "outputId": "c74d418d-3a4b-4007-ce39-6d3bd51d377e"
      },
      "execution_count": null,
      "outputs": [
        {
          "name": "stdout",
          "output_type": "stream",
          "text": [
            "Enter fruit:\n",
            "Enterfkasfa\n",
            "Enter fruit's price:\n",
            "Enter21\n",
            "Enter fruit:\n",
            "Enterdavad\n",
            "Enter fruit's price:\n",
            "Enter321\n",
            "Enter fruit:\n",
            "Enteradfda\n",
            "Enter fruit's price:\n",
            "Enter343\n"
          ]
        }
      ]
    },
    {
      "cell_type": "code",
      "source": [
        "dict"
      ],
      "metadata": {
        "id": "D-J2LlWHSsVk",
        "colab": {
          "base_uri": "https://localhost:8080/"
        },
        "outputId": "3d2bf084-428c-4263-8bb2-a24ae3d11784"
      },
      "execution_count": null,
      "outputs": [
        {
          "output_type": "execute_result",
          "data": {
            "text/plain": [
              "{'fkasfa': '21', 'davad': '321', 'adfda': '343'}"
            ]
          },
          "metadata": {},
          "execution_count": 14
        }
      ]
    },
    {
      "cell_type": "markdown",
      "source": [
        "4. Take biodata of employee from user as Name, cnic number, age, and salary save it in txt\n",
        "file. Now append this file to add contact number. Finally read this file. Handle all possible\n",
        "exceptions as well."
      ],
      "metadata": {
        "id": "_99rjYnn1dFt"
      }
    },
    {
      "cell_type": "code",
      "source": [
        "\n",
        "data = []\n",
        "biodata = {\"Name\":\"\",\"CNIC Number\": \"\",\"Age\":\"\",\"Contact Number\":\"\" }\n",
        "try:\n",
        "  for _ in range(1):\n",
        "    biodata[\"Name\"] = input(\"Enter name: \")\n",
        "    biodata[\"CNIC Number\"] = int(input(\"Enter CNIC Number: \"))\n",
        "    biodata[\"Age\"] = int(input(\"Enter Age: \"))\n",
        "    data.append(biodata)\n",
        "\n",
        "  with open(\"biodata.txt\",\"w\") as file:\n",
        "\n",
        "    txtData = \" \".join(str(data))\n",
        "    file.write(txtData)\n",
        "\n",
        "  with open(\"biodata.txt\",\"a\") as file:\n",
        "\n",
        "    biodata[\"Contact Number\"] = int(input(\"Enter Contact\"))\n",
        "    txtData = \" \".join(str(data))\n",
        "    file.write(\"\\n\")\n",
        "    file.write(txtData)\n",
        "    print(\"CONTACT INFO APPENDED\")\n",
        "\n",
        "except (IOError,ValueError) as e:\n",
        "  print(\"EXCEPTION OCCURED: \",e)"
      ],
      "metadata": {
        "id": "uiAYUnkaUzo0",
        "colab": {
          "base_uri": "https://localhost:8080/"
        },
        "outputId": "5a15cb40-f2fd-4a2c-adb9-f15c9c65bc7f"
      },
      "execution_count": null,
      "outputs": [
        {
          "output_type": "stream",
          "name": "stdout",
          "text": [
            "Enter name: misha\n",
            "Enter CNIC Number: 34242342\n",
            "Enter Age: 31\n",
            "Enter Contact4324241\n",
            "CONTACT INFO APPENDED\n"
          ]
        }
      ]
    },
    {
      "cell_type": "markdown",
      "source": [
        "5. Take input from user below dictionary having name and age pair. Save this dictionary in\n",
        "json file. Now load this json file and Print name of person having maximum age and also\n",
        "print if anyone has the same age by making logic yourself without using any library:\n",
        "dictionary = {'Ali': 23,'Saad':24,'Salman':15,'Shams':25,'Sadiq':46,'Hammad':23'} Handle all\n",
        "possible exceptions as well."
      ],
      "metadata": {
        "id": "F_QMYsSR7dMz"
      }
    },
    {
      "cell_type": "code",
      "source": [
        "import json\n",
        "data = {\"person\":None}\n",
        "val =[]\n",
        "\n",
        "\n",
        "def checkSame(*lst,key):\n",
        "  for person in lst:\n",
        "    person[key]\n",
        "try:\n",
        "\n",
        "  for _ in range(3):\n",
        "\n",
        "    biodata = {\"Name\":None,\"Age\":None}\n",
        "\n",
        "    biodata[\"Name\"] = input(\"Enter name: \")\n",
        "    biodata[\"Age\"] = int(input(\"Enter Age: \"))\n",
        "    val.append(biodata)\n",
        "\n",
        "  data[\"person\"] = val\n",
        "  print(val)\n",
        "  json_data = json.dumps(data)\n",
        "\n",
        "  print(json_data)\n",
        "  print(type(json_data))\n",
        "\n",
        "  with open(\"biodata.json\",\"w\") as file:\n",
        "    file.write(json_data)\n",
        "\n",
        "\n",
        "  with open(\"biodata.json\",\"r\") as file:\n",
        "    data = json.loads(file.read())\n",
        "    personData = data[\"person\"]\n",
        "\n",
        "    personData = sorted(personData,key = lambda x:x[\"Age\"],reverse= True )\n",
        "\n",
        "    print(f\"PERSON WITH THE MAXIMUM AGE: {personData[0]}\")\n",
        "\n",
        "\n",
        "except (IOError,ValueError) as e:\n",
        "  print(\"EXCEPTION OCCURED: \",e)"
      ],
      "metadata": {
        "colab": {
          "base_uri": "https://localhost:8080/"
        },
        "id": "UlEkRVv81drb",
        "outputId": "0497159f-387e-42e6-9f60-7b545430102b"
      },
      "execution_count": 44,
      "outputs": [
        {
          "output_type": "stream",
          "name": "stdout",
          "text": [
            "Enter name: mishal\n",
            "Enter Age: 45\n",
            "Enter name: fahim\n",
            "Enter Age: 98\n",
            "Enter name: zakia\n",
            "Enter Age: 23\n",
            "[{'Name': 'mishal', 'Age': 45}, {'Name': 'fahim', 'Age': 98}, {'Name': 'zakia', 'Age': 23}]\n",
            "{\"person\": [{\"Name\": \"mishal\", \"Age\": 45}, {\"Name\": \"fahim\", \"Age\": 98}, {\"Name\": \"zakia\", \"Age\": 23}]}\n",
            "<class 'str'>\n",
            "PERSON WITH THE MAXIMUM AGE: {'Name': 'fahim', 'Age': 98}\n"
          ]
        }
      ]
    },
    {
      "cell_type": "code",
      "source": [],
      "metadata": {
        "id": "aH8fLAUR2wi4"
      },
      "execution_count": null,
      "outputs": []
    },
    {
      "cell_type": "markdown",
      "source": [
        "6. Create a function that asks the user to enter a sentence then writes the sentence to a text file\n",
        "named \"questions.txt\" if it's a question. Handle all possible exceptions as well."
      ],
      "metadata": {
        "id": "9lywNWe3mrIe"
      }
    },
    {
      "cell_type": "code",
      "source": [
        "class NotQuestion(Exception):\n",
        "    \"\"\"Exception raised for errors in the input question.\"\"\"\n",
        "\n",
        "    def __init__(self, message=\"Input must be a question\"):\n",
        "        self.message = message\n",
        "        print(message)\n",
        "        super().__init__(self.message)\n",
        "\n",
        "\n",
        "try:\n",
        "  question = input(\"Enter an question:\")\n",
        "  check = question.endswith(\"?\")\n",
        "\n",
        "  if not check:\n",
        "    raise NotQuestion\n",
        "  else:\n",
        "    with open(\"question.txt\",\"w\") as file:\n",
        "      file.write(question)\n",
        "except Exception as e:\n",
        "  print(\"Exception occured\")"
      ],
      "metadata": {
        "colab": {
          "base_uri": "https://localhost:8080/"
        },
        "id": "Bm1WJdTSmtp0",
        "outputId": "40d00818-2611-4369-9122-a718fe247e4e"
      },
      "execution_count": 47,
      "outputs": [
        {
          "name": "stdout",
          "output_type": "stream",
          "text": [
            "Enter an question:why did the chicken not cross the road?\n"
          ]
        }
      ]
    },
    {
      "cell_type": "markdown",
      "source": [
        "7. You need to read \"replacement_needed.txt\" file. This file has one mistake. One letter needs\n",
        "to be replaced with other letter then this sentence might have some meaning. Replace this\n",
        "letter with the desired one making logic yourself without using any library. Write your code\n",
        "in function and call that function. Handle all possible exceptions as well."
      ],
      "metadata": {
        "id": "i5T07AR1o9Ku"
      }
    },
    {
      "cell_type": "code",
      "source": [
        "try:\n",
        "\n",
        "  with open(\"replacement_needed.txt\",\"r+\") as file:\n",
        "    file.seek(0)\n",
        "    content = file.read()\n",
        "    content = content.replace(\"b\",\"c\")\n",
        "    file.write(content)\n",
        "\n",
        "    print(content)\n",
        "except IOError as e:\n",
        "  print(f\"EXCEPTION OCCURED {e}\")"
      ],
      "metadata": {
        "colab": {
          "base_uri": "https://localhost:8080/"
        },
        "id": "Uz_rj5uposdI",
        "outputId": "1a8d215a-a4ce-43ad-fe9c-37c91f49703d"
      },
      "execution_count": 67,
      "outputs": [
        {
          "output_type": "stream",
          "name": "stdout",
          "text": [
            "theres is no need for change.\n"
          ]
        }
      ]
    },
    {
      "cell_type": "markdown",
      "source": [
        "8. Take two integer numbers from user as input. Divide these two numbers. If one number is\n",
        "being divided by zero (another number) then handle ZeroDivisionError and if entered value\n",
        "is wrong (for example, a string) then handle ValueError."
      ],
      "metadata": {
        "id": "3-W9SXcvt5Nq"
      }
    },
    {
      "cell_type": "code",
      "source": [
        "try:\n",
        "  num1 = int(input(\"enter num1: \"))\n",
        "  num2 = int(input(\"enter num2: \"))\n",
        "\n",
        "  print(f\"num1/num2 is: {num1/num2}\")\n",
        "\n",
        "except (ValueError,ZeroDivisionError) as e:\n",
        "  print(f\"Exception Occured: {e}\")"
      ],
      "metadata": {
        "colab": {
          "base_uri": "https://localhost:8080/"
        },
        "id": "9OQjsQF2quNJ",
        "outputId": "bb8e352a-56c7-43b3-c384-11924cfa640e"
      },
      "execution_count": 71,
      "outputs": [
        {
          "output_type": "stream",
          "name": "stdout",
          "text": [
            "enter num1: fg\n",
            "Exception Occured: invalid literal for int() with base 10: 'fg'\n"
          ]
        }
      ]
    },
    {
      "cell_type": "code",
      "source": [],
      "metadata": {
        "id": "6CDdz0yOuW15"
      },
      "execution_count": null,
      "outputs": []
    }
  ]
}