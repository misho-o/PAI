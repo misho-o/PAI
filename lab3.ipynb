{
  "nbformat": 4,
  "nbformat_minor": 0,
  "metadata": {
    "colab": {
      "provenance": [],
      "authorship_tag": "ABX9TyOoytFuvop+r4nENqK44L1P",
      "include_colab_link": true
    },
    "kernelspec": {
      "name": "python3",
      "display_name": "Python 3"
    },
    "language_info": {
      "name": "python"
    }
  },
  "cells": [
    {
      "cell_type": "markdown",
      "metadata": {
        "id": "view-in-github",
        "colab_type": "text"
      },
      "source": [
        "<a href=\"https://colab.research.google.com/github/misho-o/PAI/blob/main/lab3.ipynb\" target=\"_parent\"><img src=\"https://colab.research.google.com/assets/colab-badge.svg\" alt=\"Open In Colab\"/></a>"
      ]
    },
    {
      "cell_type": "code",
      "source": [],
      "metadata": {
        "id": "A-LvdfPjRGt5"
      },
      "execution_count": null,
      "outputs": []
    },
    {
      "cell_type": "code",
      "execution_count": null,
      "metadata": {
        "colab": {
          "base_uri": "https://localhost:8080/"
        },
        "id": "NlG_bpOZep3w",
        "outputId": "6530bf64-ca2c-4da8-c580-b168be74b82b"
      },
      "outputs": [
        {
          "output_type": "stream",
          "name": "stdout",
          "text": [
            "TITLE:HARRY PUTTER \n",
            "AUTHOR:JK ROWLING\n"
          ]
        }
      ],
      "source": [
        "class library:\n",
        "\n",
        "  def __init__(hehe,author,title):\n",
        "    hehe.author = author\n",
        "    hehe.title = title\n",
        "\n",
        "  def printDetail(hehe):\n",
        "    print(f\"TITLE:{hehe.title} \\nAUTHOR:{hehe.author}\")\n",
        "\n",
        "\n",
        "book1 = library(\"JK ROWLING\",\"HARRY PUTTER\")\n",
        "\n",
        "book1.printDetail()\n"
      ]
    },
    {
      "cell_type": "code",
      "source": [
        "class shape:\n",
        "  def __init__(self,base,height):\n",
        "    self.height = height\n",
        "    self.base = base\n",
        "\n",
        "  def calcArea(self):\n",
        "    return 1/2*(self.height*self.base)\n",
        "\n",
        "\n",
        "triangle = shape(3,4)\n",
        "\n",
        "triangle.calcArea()\n",
        "\n",
        "\n",
        "\n"
      ],
      "metadata": {
        "colab": {
          "base_uri": "https://localhost:8080/"
        },
        "id": "NDOnVuLlm64u",
        "outputId": "c097b886-a07e-4fba-d8ae-93f6d7be2ac6"
      },
      "execution_count": null,
      "outputs": [
        {
          "output_type": "execute_result",
          "data": {
            "text/plain": [
              "6.0"
            ]
          },
          "metadata": {},
          "execution_count": 18
        }
      ]
    },
    {
      "cell_type": "code",
      "source": [
        "vowels = [\"a\",\"o\",\"e\",\"i\",\"u\"]\n",
        "\n",
        "def checkVowel():\n",
        "  word = input(\"ENTER WORD: \")\n",
        "\n",
        "  letter = word[-1].lower()\n",
        "\n",
        "  if letter in vowels:\n",
        "    print(\"last letter is vowel\")\n",
        "  else:\n",
        "    print(\"last letter is consonant\")\n",
        "\n",
        "\n",
        "\n",
        "checkVowel()"
      ],
      "metadata": {
        "colab": {
          "base_uri": "https://localhost:8080/"
        },
        "id": "9qn4iaZFn2PI",
        "outputId": "7216bfa5-350f-4db0-c682-ca1a45f6c571"
      },
      "execution_count": null,
      "outputs": [
        {
          "output_type": "stream",
          "name": "stdout",
          "text": [
            "ENTER WORD: AMNA\n",
            "last letter is vowel\n"
          ]
        }
      ]
    },
    {
      "cell_type": "code",
      "source": [
        "def employee(name,salary = 10000):\n",
        "  print(f\"NAME:{name}\\nINITIAL SALARY: {salary} \\nTAXED SALARY: {salary-(0.02*salary)}\")\n",
        "\n",
        "employee(\"amna\")"
      ],
      "metadata": {
        "colab": {
          "base_uri": "https://localhost:8080/"
        },
        "id": "fIdQh1Orp5W8",
        "outputId": "e056f8c3-dc65-4b5e-e2de-5599bbf58551"
      },
      "execution_count": null,
      "outputs": [
        {
          "output_type": "stream",
          "name": "stdout",
          "text": [
            "NAME:amna\n",
            "INITIAL SALARY: 10000 \n",
            "TAXED SALARY: 9800.0\n"
          ]
        }
      ]
    },
    {
      "cell_type": "code",
      "source": [
        "from logging import exception\n",
        "def cool():\n",
        "  n = int(input(\"ENTER PEOPLE YOU WANNA REGISTER:\"))\n",
        "  name = []\n",
        "  age = []\n",
        "  wiki = {}\n",
        "\n",
        "  for i in range(n):\n",
        "    name.append(input(\"ENTER NAME:\"))\n",
        "    age.append(input(\"ENTER AGE:\"))\n",
        "\n",
        "  for i in range(n):\n",
        "    wiki[name[i]] = age[i]\n",
        "\n",
        "  print(wiki)\n",
        "\n",
        "  try:\n",
        "      with open(\"wiki.txt\",\"w\") as file:\n",
        "        for namE,agE in wiki.items():\n",
        "          file.write(f\"{namE} : {agE}\\n\")\n",
        "  except FileExistsError:\n",
        "      print(\"File 'new_file_x.txt' already exists.\")\n",
        "\n",
        "\n",
        "\n",
        "\n",
        "cool()\n",
        "\n"
      ],
      "metadata": {
        "colab": {
          "base_uri": "https://localhost:8080/"
        },
        "id": "z1IRO926qtNS",
        "outputId": "86e2bd16-6aa8-4bbc-84d1-5adfe24c7664"
      },
      "execution_count": null,
      "outputs": [
        {
          "output_type": "stream",
          "name": "stdout",
          "text": [
            "ENTER PEOPLE YOU WANNA REGISTER:2\n",
            "ENTER NAME:dssa\n",
            "ENTER AGE:das\n",
            "ENTER NAME:asdsa\n",
            "ENTER AGE:dasda\n",
            "{'dssa': 'das', 'asdsa': 'dasda'}\n"
          ]
        }
      ]
    },
    {
      "cell_type": "code",
      "source": [
        "def checkPalind(string):\n",
        "  rev= string[::-1]\n",
        "  if rev==string:\n",
        "    print(\"STRING IS A PALINDROME\")\n",
        "  else:\n",
        "    print(\"String isnt a palindrome\")\n",
        "\n",
        "\n",
        "checkPalind(\"mom\")"
      ],
      "metadata": {
        "colab": {
          "base_uri": "https://localhost:8080/"
        },
        "id": "PBKwy9wysupb",
        "outputId": "fb450f7a-a276-4b38-cb22-2f584e65a522"
      },
      "execution_count": null,
      "outputs": [
        {
          "output_type": "stream",
          "name": "stdout",
          "text": [
            "STRING IS A PALINDROME\n"
          ]
        }
      ]
    },
    {
      "cell_type": "code",
      "source": [],
      "metadata": {
        "id": "-1pKfty00TKs"
      },
      "execution_count": null,
      "outputs": []
    },
    {
      "cell_type": "code",
      "source": [],
      "metadata": {
        "id": "jFoD9Tr-wBCz"
      },
      "execution_count": null,
      "outputs": []
    }
  ]
}